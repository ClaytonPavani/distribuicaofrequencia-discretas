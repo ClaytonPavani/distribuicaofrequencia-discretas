{
  "nbformat": 4,
  "nbformat_minor": 0,
  "metadata": {
    "colab": {
      "provenance": [],
      "authorship_tag": "ABX9TyNDQsk6+DH7N+WKpki3rcqZ",
      "include_colab_link": true
    },
    "kernelspec": {
      "name": "python3",
      "display_name": "Python 3"
    },
    "language_info": {
      "name": "python"
    }
  },
  "cells": [
    {
      "cell_type": "markdown",
      "metadata": {
        "id": "view-in-github",
        "colab_type": "text"
      },
      "source": [
        "<a href=\"https://colab.research.google.com/github/ClaytonPavani/distribuicaofrequencia-discretas/blob/main/teorema_do_limite_central.ipynb\" target=\"_parent\"><img src=\"https://colab.research.google.com/assets/colab-badge.svg\" alt=\"Open In Colab\"/></a>"
      ]
    },
    {
      "cell_type": "code",
      "execution_count": null,
      "metadata": {
        "id": "Z3Rlu7lKN8iW"
      },
      "outputs": [],
      "source": [
        "import pandas\n",
        "import plotly.figure_factory as ff"
      ]
    },
    {
      "cell_type": "markdown",
      "source": [
        "Vamos ver o teorema acontecendo na prática?\n",
        "\n",
        "Vamos usar dados abertos de filmes da Netflix novamente.\n",
        "https://www.kaggle.com/datasets/ariyoomotade/netflix-data-cleaning-analysis-and-visualization"
      ],
      "metadata": {
        "id": "Vkt43gl3ODAm"
      }
    },
    {
      "cell_type": "code",
      "source": [
        "df = pandas.read_csv('netflix/netflix.csv')"
      ],
      "metadata": {
        "id": "TZSDJFMiOEBx"
      },
      "execution_count": null,
      "outputs": []
    },
    {
      "cell_type": "code",
      "source": [
        "df.head()"
      ],
      "metadata": {
        "id": "II4J7WHnOHDE"
      },
      "execution_count": null,
      "outputs": []
    },
    {
      "cell_type": "code",
      "source": [
        "df.dtypes"
      ],
      "metadata": {
        "id": "e-Pbd-MdOIOC"
      },
      "execution_count": null,
      "outputs": []
    },
    {
      "cell_type": "code",
      "source": [
        "fig = ff.create_distplot([df[\"duracao_min\"]],['Duração (min)'],\n",
        "                         show_rug= False, bin_size=2, show_hist = False)\n",
        "\n",
        "fig.update_layout(title_text='Duração dos Filmes')\n",
        "fig.show()"
      ],
      "metadata": {
        "id": "eRUgCEzyOJXM"
      },
      "execution_count": null,
      "outputs": []
    },
    {
      "cell_type": "code",
      "source": [
        "df[\"duracao_min\"].mean() #como calcular média"
      ],
      "metadata": {
        "id": "pMV5jG-EOOhW"
      },
      "execution_count": null,
      "outputs": []
    },
    {
      "cell_type": "code",
      "source": [
        "df[\"duracao_min\"].median() #como calcular mediana"
      ],
      "metadata": {
        "id": "Pn64k9RyORBp"
      },
      "execution_count": null,
      "outputs": []
    },
    {
      "cell_type": "code",
      "source": [
        "df[\"duracao_min\"].mode() #como calcular moda"
      ],
      "metadata": {
        "id": "HF6jrnWeOUMk"
      },
      "execution_count": null,
      "outputs": []
    },
    {
      "cell_type": "code",
      "source": [
        "df[\"duracao_min\"].sample(frac=0.1) #como calcular fração de amostra"
      ],
      "metadata": {
        "id": "yCczHjIMOYD-"
      },
      "execution_count": null,
      "outputs": []
    },
    {
      "cell_type": "code",
      "source": [
        "media_das_amostras = []\n",
        "total_de_iteracoes = 100000\n",
        "\n",
        "for iteracao in range(total_de_iteracoes):\n",
        "    amostra = df[\"duracao_min\"].sample(frac=0.1)\n",
        "    media = amostra.mean()\n",
        "    media_das_amostras.append(media)\n",
        "\n",
        "#como armazenar porcentagem de uma amostra, para criar uma lista de médias de amostras"
      ],
      "metadata": {
        "id": "JY347dREOe9P"
      },
      "execution_count": null,
      "outputs": []
    },
    {
      "cell_type": "code",
      "source": [
        "len(media_das_amostras) #como calcular tamanho total das de uma lista"
      ],
      "metadata": {
        "id": "MDAyqA4dOkOU"
      },
      "execution_count": null,
      "outputs": []
    },
    {
      "cell_type": "code",
      "source": [
        "fig = ff.create_distplot([media_das_amostras],['Média das Amostras'],\n",
        "                         show_rug= False, bin_size=50, show_hist = False)\n",
        "fig.update_layout(title_text='Média do Valor')\n",
        "fig.show()\n",
        "\n",
        "#como criar um gráfico com a biblioteca figure_factory"
      ],
      "metadata": {
        "id": "owF6bbPIOpGR"
      },
      "execution_count": null,
      "outputs": []
    }
  ]
}