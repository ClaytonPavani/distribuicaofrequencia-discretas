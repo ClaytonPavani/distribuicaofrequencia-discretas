{
  "nbformat": 4,
  "nbformat_minor": 0,
  "metadata": {
    "colab": {
      "provenance": [],
      "authorship_tag": "ABX9TyPd1O0NI5Wy27SzBbJV4OzL",
      "include_colab_link": true
    },
    "kernelspec": {
      "name": "python3",
      "display_name": "Python 3"
    },
    "language_info": {
      "name": "python"
    }
  },
  "cells": [
    {
      "cell_type": "markdown",
      "metadata": {
        "id": "view-in-github",
        "colab_type": "text"
      },
      "source": [
        "<a href=\"https://colab.research.google.com/github/ClaytonPavani/distribuicaofrequencia-discretas/blob/main/distribuicao_frequencia_discreta.ipynb\" target=\"_parent\"><img src=\"https://colab.research.google.com/assets/colab-badge.svg\" alt=\"Open In Colab\"/></a>"
      ]
    },
    {
      "cell_type": "code",
      "execution_count": null,
      "metadata": {
        "id": "3jtC_ZZ6rrxm"
      },
      "outputs": [],
      "source": [
        "import pandas as pd\n",
        "import plotly.figure_factory as ff\n",
        "import numpy as np\n",
        "from numpy.random import binomial\n",
        "from numpy.random import poisson\n",
        "from scipy.stats import bernoulli\n",
        "import plotly.express as px"
      ]
    },
    {
      "cell_type": "markdown",
      "source": [
        "Estatística descritiva, visualização de dados - DISTPLOT\n",
        "\n",
        "Como importar o PLOTLY Como importar o PANDAS\n",
        "\n",
        "VAMOS USAR DADOS ABERTOS - ARQUIVO .CSV DO NETFLIX\n",
        "\n",
        "LINK: https://www.kaggle.com/datasets/ariyoomotade/netflix-data-cleaning-analysis-and-visualization\n",
        "\n",
        "\n",
        "ABAIXO - COMANDO PARA LER ARQUIVOS .CSV"
      ],
      "metadata": {
        "id": "rtR1ui3Xry5j"
      }
    },
    {
      "cell_type": "code",
      "source": [
        "df = pd.read_csv('netflix/netflix.csv')"
      ],
      "metadata": {
        "id": "LoOAIAaXrw3w"
      },
      "execution_count": null,
      "outputs": []
    },
    {
      "cell_type": "markdown",
      "source": [
        "Descrição das colunas\n",
        "\n",
        "    - show_id - id do filme\n",
        "    - type - tipo de conteúdo(Movie)\n",
        "    - title - título do filme\n",
        "    - director - pessoa diretora do filme\n",
        "    - country - país do filme\n",
        "    - date_added - data de adição à Netflix\n",
        "    - release_year - ano de lançamento\n",
        "    - rating - rating da TV para o filme\n",
        "    - duration - duração do conteúdo\n",
        "    - listed_in - gênero do conteúdo\n",
        "    - duracao_min - duração do conteúdo em minutos"
      ],
      "metadata": {
        "id": "oN82R1mKr2K4"
      }
    },
    {
      "cell_type": "code",
      "source": [
        "df.head()"
      ],
      "metadata": {
        "id": "9uAO9HGHr6cm"
      },
      "execution_count": null,
      "outputs": []
    },
    {
      "cell_type": "code",
      "source": [
        "df.dtypes"
      ],
      "metadata": {
        "id": "Y9rovcMor8U4"
      },
      "execution_count": null,
      "outputs": []
    },
    {
      "cell_type": "markdown",
      "source": [
        "Vamos usar a BERNOULLI como distribuição de frequência conhecida"
      ],
      "metadata": {
        "id": "YssSEM7Kr_Kq"
      }
    },
    {
      "cell_type": "code",
      "source": [
        "bernoulli.rvs(p = 0.2, size = 10)"
      ],
      "metadata": {
        "id": "dxFtYr6tr_4m"
      },
      "execution_count": null,
      "outputs": []
    },
    {
      "cell_type": "code",
      "source": [
        "bernoulli.rvs(p = 0.2, size = 10)"
      ],
      "metadata": {
        "id": "DVPnqDqBsA62"
      },
      "execution_count": null,
      "outputs": []
    },
    {
      "cell_type": "markdown",
      "source": [
        "Utilizando Random State - Resultado será sempre o mesmo."
      ],
      "metadata": {
        "id": "LWSLwkRwsDhl"
      }
    },
    {
      "cell_type": "code",
      "source": [
        "bernoulli.rvs(p = 0.2, size = 10, random_state = 100)"
      ],
      "metadata": {
        "id": "_zdH3DnGsCgb"
      },
      "execution_count": null,
      "outputs": []
    },
    {
      "cell_type": "markdown",
      "source": [
        "HISTOGRAMA DE UMA BERNOULLI - PROBABILIDADE 0.3\n",
        "\n",
        "#O método FIG.SHOW não aceita string, portanto não colocaremos nada entre parêntese para mostrar o gráfico"
      ],
      "metadata": {
        "id": "4AZc9FoRsL0y"
      }
    },
    {
      "cell_type": "code",
      "source": [
        "fig = px.histogram(bernoulli.rvs(p = 0.3, size = 500000))\n",
        "\n",
        "fig.update_layout(title_text='Histograma de uma Bernoulli com p = 0.30')\n",
        "\n",
        "fig.show()"
      ],
      "metadata": {
        "id": "e2DQb08msO3u"
      },
      "execution_count": null,
      "outputs": []
    },
    {
      "cell_type": "code",
      "source": [
        "binomial(n = 10, p = 0.7, size = 5)"
      ],
      "metadata": {
        "id": "utcck3e4sQkw"
      },
      "execution_count": null,
      "outputs": []
    },
    {
      "cell_type": "code",
      "source": [
        "binomial(n = 10, p = 0.7, size = 5)"
      ],
      "metadata": {
        "id": "cC7hK8fXsSMZ"
      },
      "execution_count": null,
      "outputs": []
    },
    {
      "cell_type": "markdown",
      "source": [
        "# HISTOGRAMA DE UMA BINOMIAL"
      ],
      "metadata": {
        "id": "7AxzaD0YsTUG"
      }
    },
    {
      "cell_type": "code",
      "source": [
        "fig = px.histogram(binomial(n = 20, p = 0.7, size = 500000))\n",
        "\n",
        "fig.update_layout(title_text='Histograma de uma Binomial com n = 20 e p = 0.7')\n",
        "\n",
        "fig.show()"
      ],
      "metadata": {
        "id": "UzzEJy1ZsU21"
      },
      "execution_count": null,
      "outputs": []
    },
    {
      "cell_type": "markdown",
      "source": [
        "# APLICANDO CONCEITOS DE POISSON NA PRÁTICA"
      ],
      "metadata": {
        "id": "fEqpC-xFsWKT"
      }
    },
    {
      "cell_type": "code",
      "source": [
        "poisson(lam = 5, size = 10)"
      ],
      "metadata": {
        "id": "43eKkJ_osXHK"
      },
      "execution_count": null,
      "outputs": []
    },
    {
      "cell_type": "code",
      "source": [
        "poisson(lam = 5, size = 10)"
      ],
      "metadata": {
        "id": "zefhLr54sasn"
      },
      "execution_count": null,
      "outputs": []
    },
    {
      "cell_type": "markdown",
      "source": [
        "# Vamos criar um HISTOGRAMA para essa distribuição poisson"
      ],
      "metadata": {
        "id": "x6ytPty_scEx"
      }
    },
    {
      "cell_type": "code",
      "source": [],
      "metadata": {
        "id": "Uh48SPUjsc0M"
      },
      "execution_count": null,
      "outputs": []
    },
    {
      "cell_type": "code",
      "source": [
        "fig = px.histogram(poisson(lam = 2, size = 500000))\n",
        "\n",
        "fig.update_layout(title_text='Histograma de uma Poisson com lambda = 4')\n",
        "\n",
        "fig.show()"
      ],
      "metadata": {
        "id": "fX45IBptsdsA"
      },
      "execution_count": null,
      "outputs": []
    }
  ]
}