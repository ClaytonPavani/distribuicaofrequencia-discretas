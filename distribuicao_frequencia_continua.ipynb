{
  "nbformat": 4,
  "nbformat_minor": 0,
  "metadata": {
    "colab": {
      "provenance": [],
      "authorship_tag": "ABX9TyOhEmJbZPBuIxnvQKgDal/Y",
      "include_colab_link": true
    },
    "kernelspec": {
      "name": "python3",
      "display_name": "Python 3"
    },
    "language_info": {
      "name": "python"
    }
  },
  "cells": [
    {
      "cell_type": "markdown",
      "metadata": {
        "id": "view-in-github",
        "colab_type": "text"
      },
      "source": [
        "<a href=\"https://colab.research.google.com/github/ClaytonPavani/distribuicaofrequencia-discretas/blob/main/distribuicao_frequencia_continua.ipynb\" target=\"_parent\"><img src=\"https://colab.research.google.com/assets/colab-badge.svg\" alt=\"Open In Colab\"/></a>"
      ]
    },
    {
      "cell_type": "code",
      "execution_count": null,
      "metadata": {
        "id": "6ZzxABYUQJAC"
      },
      "outputs": [],
      "source": [
        "import pandas as pd\n",
        "import plotly.figure_factory as ff\n",
        "import numpy as np\n",
        "from numpy.random import binomial\n",
        "from numpy.random import poisson\n",
        "from numpy.random import exponential\n",
        "from numpy.random import beta\n",
        "from scipy.stats import bernoulli\n",
        "import plotly.express as px"
      ]
    },
    {
      "cell_type": "markdown",
      "source": [
        "# PASSAGEM DE PARÂMETRO E TAMANHO\n",
        "\n",
        "* Vamos passar pelo modelo de distribuição CONTÍNUA - Exponencial"
      ],
      "metadata": {
        "id": "6IvvF-ILQNV9"
      }
    },
    {
      "cell_type": "code",
      "source": [
        "exponential(scale = 5, size = 10)"
      ],
      "metadata": {
        "id": "GSCnmslOQOxs"
      },
      "execution_count": null,
      "outputs": []
    },
    {
      "cell_type": "code",
      "source": [
        "exponential(scale = 5, size = 10)"
      ],
      "metadata": {
        "id": "36yp4mhjQQlW"
      },
      "execution_count": null,
      "outputs": []
    },
    {
      "cell_type": "markdown",
      "source": [
        "# Criando um HISTOGRAMA para demostrar o modelo de distribuição EXPONENCIAL"
      ],
      "metadata": {
        "id": "lBy4_HVfQRkY"
      }
    },
    {
      "cell_type": "code",
      "source": [
        "fig = ff.create_distplot([exponential(scale = 5, size = 500000)]\n",
        "                         ,['curva exponencial'],\n",
        "                         show_rug= False, bin_size=2, show_hist = False)\n",
        "\n",
        "fig.update_layout(title_text='Exponencial média 5')\n",
        "fig.show()"
      ],
      "metadata": {
        "id": "K9vfFdfIQYZG"
      },
      "execution_count": null,
      "outputs": []
    },
    {
      "cell_type": "markdown",
      "source": [
        "# Vamos criar um EXEMPLO DE DISTRIBUIÇÃO CONTÍNUA BETA"
      ],
      "metadata": {
        "id": "zSUHnflEQrJV"
      }
    },
    {
      "cell_type": "code",
      "source": [
        "beta (a = 5, b = 3, size = 10)"
      ],
      "metadata": {
        "id": "8vLyMMNlQtGE"
      },
      "execution_count": null,
      "outputs": []
    },
    {
      "cell_type": "code",
      "source": [
        "beta (a = 5, b = 30, size = 10)"
      ],
      "metadata": {
        "id": "tnRiYm9hQv4-"
      },
      "execution_count": null,
      "outputs": []
    },
    {
      "cell_type": "markdown",
      "source": [
        "# Criando um HISTOGRAMA para demostrar o modelo de distribuição contínua BETA"
      ],
      "metadata": {
        "id": "3Z6li567QxYN"
      }
    },
    {
      "cell_type": "code",
      "source": [
        "fig = ff.create_distplot([beta(a = 5, b = 20, size = 500000)],\n",
        "                        ['curva_beta'],\n",
        "                        show_rug= False, bin_size=2, show_hist=False)\n",
        "\n",
        "fig.update_layout(title_text='Beta com a = 5 e b = 20')\n",
        "fig.show()"
      ],
      "metadata": {
        "id": "u820ut2fQ20L"
      },
      "execution_count": null,
      "outputs": []
    }
  ]
}