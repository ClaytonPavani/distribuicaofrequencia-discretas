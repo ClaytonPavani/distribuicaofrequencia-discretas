{
  "nbformat": 4,
  "nbformat_minor": 0,
  "metadata": {
    "colab": {
      "provenance": [],
      "authorship_tag": "ABX9TyMZJCIFS697GD696EGMYj8N",
      "include_colab_link": true
    },
    "kernelspec": {
      "name": "python3",
      "display_name": "Python 3"
    },
    "language_info": {
      "name": "python"
    }
  },
  "cells": [
    {
      "cell_type": "markdown",
      "metadata": {
        "id": "view-in-github",
        "colab_type": "text"
      },
      "source": [
        "<a href=\"https://colab.research.google.com/github/ClaytonPavani/distribuicaofrequencia-discretas/blob/main/distribui%C3%A7%C3%A3o_normal_gaussiana%2BTdeStudent.ipynb\" target=\"_parent\"><img src=\"https://colab.research.google.com/assets/colab-badge.svg\" alt=\"Open In Colab\"/></a>"
      ]
    },
    {
      "cell_type": "code",
      "execution_count": null,
      "metadata": {
        "id": "ZofwJy8y-7yi"
      },
      "outputs": [],
      "source": [
        "import pandas as pd\n",
        "import numpy as np\n",
        "import plotly.figure_factory as ff\n",
        "from numpy.random import normal\n",
        "from numpy.random import standard_t"
      ]
    },
    {
      "cell_type": "markdown",
      "source": [
        "Nesse arquivo vamos ver a APLICABILIDADE da DISTRIBUIÇÃO NORMAL DE PROBABILIDADE, também conhecida como GAUSSIANA\n",
        "Ela apresenta sempre dois parâmetros:\n",
        "* loc = média\n",
        "* Scale = desvio padrão"
      ],
      "metadata": {
        "id": "5SX8hb7v_e3j"
      }
    },
    {
      "cell_type": "code",
      "source": [
        "normal(loc = 0, scale = 1, size = 10)"
      ],
      "metadata": {
        "id": "PIer_tww_f0o"
      },
      "execution_count": null,
      "outputs": []
    },
    {
      "cell_type": "markdown",
      "source": [
        "Abaixo vamos ver uma DISTRIBUIÇÃO NORMAL PADRÃO\n",
        "valores padrões de média e desvio padrão\n",
        "# LOC = 0\n",
        "# SCALE = 1"
      ],
      "metadata": {
        "id": "C0cK7EUT_hd6"
      }
    },
    {
      "cell_type": "code",
      "source": [
        "fig = ff.create_distplot([normal(loc = 0, scale = 1, size = 500000)],\n",
        "                         ['curva_normal'],\n",
        "                         show_rug=False, bin_size=2, show_hist = False)\n",
        "\n",
        "fig.update_layout(title_text='Normal Padrão')\n",
        "fig.show()"
      ],
      "metadata": {
        "id": "XINlIZuD_keU"
      },
      "execution_count": null,
      "outputs": []
    },
    {
      "cell_type": "code",
      "source": [
        "fig = ff.create_distplot([normal(loc = 10, scale = 10, size = 500000)],\n",
        "                         ['curva norval'],\n",
        "                         show_rug=False, bin_size=2, show_hist=False)\n",
        "\n",
        "fig.update_layout(title_text='Média = 10 e Desvio Padrão = 10')\n",
        "fig.show()"
      ],
      "metadata": {
        "id": "xWvoakL1_mqW"
      },
      "execution_count": null,
      "outputs": []
    },
    {
      "cell_type": "markdown",
      "source": [
        "Vamos criar um Histograma de DISTRIBUIÇÃO NORMAL que tenha como valores um\n",
        "Alto Desvio Padrão = Scale"
      ],
      "metadata": {
        "id": "jW5oR90g_qX0"
      }
    },
    {
      "cell_type": "code",
      "source": [
        "fig = ff.create_distplot([normal(loc = 10, scale = 100, size = 500000)]\n",
        "                         ,['curva normal'],\n",
        "                         show_rug= False, bin_size=2, show_hist = False)\n",
        "\n",
        "fig.update_layout(title_text='Média = 10 e Desvio Padrão = 100')\n",
        "fig.show()"
      ],
      "metadata": {
        "id": "j42_y0Uc_ryG"
      },
      "execution_count": null,
      "outputs": []
    },
    {
      "cell_type": "markdown",
      "source": [
        "DISTRIBUIÇÃO T de STUDENT - Muito parecido com a DISTRIBUIÇÃO NORMAL\n",
        "\n",
        "Grande diferença entre elas, é que a distribuição T de Student tem a maior tendência de apresentar valores mais extremos.\n",
        "\n",
        "Distribuição T de Student apresenta um único parâmetro, que é o GRAU DE LIBERDADE.\n",
        "\n",
        "Vamos ver a Aplicabilidade dessa forma de DISTRIBUIÇÃO T de STUDENT:"
      ],
      "metadata": {
        "id": "1ILxWBfX_uWi"
      }
    },
    {
      "cell_type": "code",
      "source": [
        "standard_t(df = 5, size = 10)"
      ],
      "metadata": {
        "id": "AxRGRKSN_zzW"
      },
      "execution_count": null,
      "outputs": []
    },
    {
      "cell_type": "markdown",
      "source": [
        "# VAMOS CRIAR UM HISTOGRAMA - T de STUDENT"
      ],
      "metadata": {
        "id": "ElZ4Kxkn_1N7"
      }
    },
    {
      "cell_type": "code",
      "source": [
        "fig = ff.create_distplot([standard_t(df = 5, size = 500000)]\n",
        "                         ,['curva t de student'],\n",
        "                         show_rug= False, bin_size=2, show_hist = False)\n",
        "\n",
        "fig.update_layout(title_text='T de Student com 5 graus de liberdade')\n",
        "fig.show()"
      ],
      "metadata": {
        "id": "pw_x-Rw7_3w-"
      },
      "execution_count": null,
      "outputs": []
    }
  ]
}